{
 "cells": [
  {
   "cell_type": "code",
   "execution_count": 2,
   "metadata": {
    "collapsed": false
   },
   "outputs": [],
   "source": [
    "# imports\n",
    "import urllib2  \n",
    "from bs4 import BeautifulSoup \n",
    "from bs4 import SoupStrainer\n",
    "import re\n",
    "from time import sleep\n",
    "import pandas as pd"
   ]
  },
  {
   "cell_type": "code",
   "execution_count": 79,
   "metadata": {
    "collapsed": false
   },
   "outputs": [],
   "source": [
    "\n",
    "open_url = \"https://www.copolad.eu/en/directorio-de-centros-y-servicios?p_p_id=directoriocentrosservicios_WAR_directoriocentrosserviciosportlet_INSTANCE_vD5B&p_p_lifecycle=0&p_p_state=normal&p_p_mode=view&p_p_col_id=column-1&p_p_col_count=1&_directoriocentrosservicios_WAR_directoriocentrosserviciosportlet_INSTANCE_vD5B_action=directory&_directoriocentrosservicios_WAR_directoriocentrosserviciosportlet_INSTANCE_vD5B_toolbarItem=directory&_directoriocentrosservicios_WAR_directoriocentrosserviciosportlet_INSTANCE_vD5B_delta=20&_directoriocentrosservicios_WAR_directoriocentrosserviciosportlet_INSTANCE_vD5B_keywords=&_directoriocentrosservicios_WAR_directoriocentrosserviciosportlet_INSTANCE_vD5B_advancedSearch=false&_directoriocentrosservicios_WAR_directoriocentrosserviciosportlet_INSTANCE_vD5B_andOperator=true&_directoriocentrosservicios_WAR_directoriocentrosserviciosportlet_INSTANCE_vD5B_country=null&_directoriocentrosservicios_WAR_directoriocentrosserviciosportlet_INSTANCE_vD5B_typeOrg=null&_directoriocentrosservicios_WAR_directoriocentrosserviciosportlet_INSTANCE_vD5B_province=&_directoriocentrosservicios_WAR_directoriocentrosserviciosportlet_INSTANCE_vD5B_city=&_directoriocentrosservicios_WAR_directoriocentrosserviciosportlet_INSTANCE_vD5B_typeInterv=null&_directoriocentrosservicios_WAR_directoriocentrosserviciosportlet_INSTANCE_vD5B_orderByCol=&_directoriocentrosservicios_WAR_directoriocentrosserviciosportlet_INSTANCE_vD5B_orderByType=&cur=\"\n",
    "url_list=[]\n",
    "for letters in range(1,158):\n",
    "    url_list.append(open_url+str(letters))\n",
    "\n",
    "center_names = []\n",
    "direction = [] \n",
    "postal = []\n",
    "city = []\n",
    "state = []\n",
    "phone = []\n",
    "email = []\n",
    "website = []\n",
    "\n",
    "def get_regex(list_a, path, string):\n",
    "    string_cleaned = re.findall(path, string)\n",
    "    if not string_cleaned:\n",
    "        list_a.append('NA')\n",
    "    else: list_a.append(string_cleaned)\n",
    "\n",
    "for services in url_list:\n",
    "    \n",
    "    only_dd_tags = SoupStrainer([\"dd\",\"dt\"])\n",
    "    page = urllib2.urlopen(services)  \n",
    "    soup =  BeautifulSoup(page, 'html.parser', parse_only=only_dd_tags)       \n",
    "    string = str(soup)\n",
    "    get_regex(direction, \"<dt>Dirección:</dt><dd>(.*?)</dd><dt>Código Postal\", string)\n",
    "    get_regex(postal, \"<dt>Código Postal:</dt><dd>(.*?)</dd><dt>Ciudad / Localidad:\", string)\n",
    "    get_regex(city, \"<dt>Ciudad / Localidad:</dt><dd>(.*?)</dd><dt>Departamento / Provincia:\", string)\n",
    "    get_regex(state, \"<dt>Departamento / Provincia:</dt><dd>(.*?)</dd><dt>País:\", string)\n",
    "    get_regex(phone, \"<dt>Teléfono:</dt><dd>(.*?)<br/></dd><dt>\", string)\n",
    "    get_regex(email,\"Correo electrónico:</dt><dd> <a href=\\\"mailto:(.*?)\\\" target=\\\"_blank\\\">\", string)\n",
    "    get_regex(website, \"Web institucional:</dt><dd> <a href=\\\"(.*?)\\\" target=\\\"_blank\\\">\", string)\n",
    "    \n",
    "    page_test = urllib2.urlopen(services)\n",
    "    soup_names =  BeautifulSoup(page_test, 'html.parser')\n",
    "    string_names = soup_names.find_all('div', class_='titulo-sec')\n",
    "    string_centers = str(string_names)\n",
    "    get_regex(center_names, \"<div class=\\\"titulo-sec\\\">(.*?)<a href=\", string_centers)\n",
    "    sleep(20)"
   ]
  },
  {
   "cell_type": "code",
   "execution_count": 104,
   "metadata": {
    "collapsed": false
   },
   "outputs": [],
   "source": [
    "import itertools\n",
    "def unnest_list(list_user):\n",
    "    list_of_menuitems = list_user\n",
    "    chain = itertools.chain(*list_of_menuitems)\n",
    "    return list(chain)\n",
    "\n",
    "direction_df = pd.DataFrame({'direction': unnest_list(direction)})\n",
    "postal_df = pd.DataFrame({'postal': unnest_list(postal)})\n",
    "center_name_df = pd.DataFrame({'center_name': unnest_list(center_names)})\n",
    "state_df = pd.DataFrame({'state': unnest_list(state)})\n",
    "website_df = pd.DataFrame({'website': unnest_list(website)})\n",
    "city_df = pd.DataFrame({'city': unnest_list(city)})\n",
    "email_df = pd.DataFrame({'email': unnest_list(email)})\n",
    "\n",
    "full_df = pd.concat([direction_df, postal_df, center_name_df, state_df, website_df, city_df, email_df], \n",
    "                    ignore_index = True, axis = 1)\n",
    "full_df.columns = ['direction', 'postal','center_name', 'state', 'website', 'city', 'email']\n"
   ]
  },
  {
   "cell_type": "code",
   "execution_count": 106,
   "metadata": {
    "collapsed": false
   },
   "outputs": [],
   "source": [
    "full_df.to_csv('~/cicad/copolad.csv')"
   ]
  }
 ],
 "metadata": {
  "anaconda-cloud": {},
  "kernelspec": {
   "display_name": "Python [default]",
   "language": "python",
   "name": "python2"
  },
  "language_info": {
   "codemirror_mode": {
    "name": "ipython",
    "version": 2
   },
   "file_extension": ".py",
   "mimetype": "text/x-python",
   "name": "python",
   "nbconvert_exporter": "python",
   "pygments_lexer": "ipython2",
   "version": "2.7.12"
  }
 },
 "nbformat": 4,
 "nbformat_minor": 1
}
